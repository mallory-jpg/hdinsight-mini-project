{
 "cells": [
  {
   "cell_type": "markdown",
   "source": [
    "# Spark DataFrames Project Exercise\n",
    "Let's get some quick practice with your new Spark DataFrame skills, you will be asked some basic questions about some stock market data, in this case Walmart Stock from the years 2012-2017. This exercise will just ask a bunch of questions, unlike the future machine learning exercises, which will be a little looser and be in the form of \"Consulting Projects\", but more on that later!\n",
    "\n",
    "For now, just answer the questions and complete the tasks below.\n",
    "\n",
    "Use the walmart_stock.csv file to Answer and complete the tasks below!¶"
   ],
   "metadata": {}
  },
  {
   "cell_type": "markdown",
   "source": [
    "### Start a Simple Spark Session"
   ],
   "metadata": {}
  },
  {
   "cell_type": "code",
   "execution_count": null,
   "source": [
    "# from pyspark.sql import SparkContext\n",
    "import pyspark\n",
    "from pyspark.sql import SparkSession\n",
    "\n",
    "spark = SparkSession(sc)\n",
    "spark.conf.set(\n",
    "\t\"fs.azure.account.key.cluckhdistorage.blob.core.windows.net\",\n",
    "\t\"GKMhmAvgzVkzJ0aTPBZ3/zRFBEZwuNkZp5eiZ78qhfsFQbkuEwyYYLhCm5lLehIwTbCr/bPwXxSG1fTnjp2IpA==\"\n",
    ")\n"
   ],
   "outputs": [],
   "metadata": {}
  },
  {
   "cell_type": "markdown",
   "source": [
    "### Load Walmart CSV file - Infer Schema"
   ],
   "metadata": {}
  },
  {
   "cell_type": "code",
   "execution_count": null,
   "source": [
    "# https://cluckhdistorage.blob.core.windows.net/springboardpsark/walmart_stock.csv\n",
    "\n",
    "df = spark.read.format(\"csv\") \\\n",
    "    .option(\"header\", True) \\\n",
    "    .load(\"https://cluckhdistorage.blob.core.windows.net/springboardpsark/walmart_stock.csv\")\n",
    "df.show()\n"
   ],
   "outputs": [],
   "metadata": {}
  },
  {
   "cell_type": "markdown",
   "source": [
    "### What are the column names?"
   ],
   "metadata": {}
  },
  {
   "cell_type": "code",
   "execution_count": null,
   "source": [
    "df.columns"
   ],
   "outputs": [],
   "metadata": {}
  },
  {
   "cell_type": "markdown",
   "source": [
    "### What is the schema?"
   ],
   "metadata": {}
  },
  {
   "cell_type": "code",
   "execution_count": null,
   "source": [
    "df.printSchema()\n"
   ],
   "outputs": [],
   "metadata": {}
  },
  {
   "cell_type": "markdown",
   "source": [
    "### Print out the first five rows"
   ],
   "metadata": {}
  },
  {
   "cell_type": "code",
   "execution_count": null,
   "source": [
    "df.take(5)\n"
   ],
   "outputs": [],
   "metadata": {}
  },
  {
   "cell_type": "markdown",
   "source": [
    "### Use describe to learn about the DataFrame"
   ],
   "metadata": {}
  },
  {
   "cell_type": "code",
   "execution_count": null,
   "source": [
    "df.describe()\n"
   ],
   "outputs": [],
   "metadata": {}
  },
  {
   "cell_type": "markdown",
   "source": [
    "## Bonus Question!\n",
    "There are too many decimal places for mean and stddev in the describe() dataframe. Format the numbers to just show up to two decimal places. Pay careful attention to the datatypes that .describe() returns, we didn't cover how to do this exact formatting, but we covered something very similar. \n",
    "\n",
    "Hint: http://spark.apache.org/docs/latest/api/python/pyspark.sql.html#pyspark.sql.Column.cast\n",
    "\n",
    "If you get stuck on this, don't worry, just view the solutions."
   ],
   "metadata": {}
  },
  {
   "cell_type": "markdown",
   "source": [],
   "metadata": {}
  },
  {
   "cell_type": "markdown",
   "source": [
    "root\n",
    " |-- summary: string (nullable = true)\n",
    " |-- Open: string (nullable = true)\n",
    " |-- High: string (nullable = true)\n",
    " |-- Low: string (nullable = true)\n",
    " |-- Close: string (nullable = true)\n",
    " |-- Volume: string (nullable = true)\n",
    " |-- Adj Close: string (nullable = true)\n"
   ],
   "metadata": {}
  },
  {
   "cell_type": "markdown",
   "source": [
    "+-------+--------+--------+--------+--------+--------+\n",
    "|summary|    Open|    High|     Low|   Close|  Volume|\n",
    "+-------+--------+--------+--------+--------+--------+\n",
    "|  count|1,258.00|1,258.00|1,258.00|1,258.00|    1258|\n",
    "|   mean|   72.36|   72.84|   71.92|   72.39| 8222093|\n",
    "| stddev|    6.77|    6.77|    6.74|    6.76| 4519781|\n",
    "|    min|   56.39|   57.06|   56.30|   56.42| 2094900|\n",
    "|    max|   90.80|   90.97|   89.25|   90.47|80898100|\n",
    "+-------+--------+--------+--------+--------+--------+"
   ],
   "metadata": {}
  },
  {
   "cell_type": "markdown",
   "source": [
    "### Create a new dataframe with a column called HV Ratio that is the ratio of the High Price versus volume of stock traded for a day."
   ],
   "metadata": {}
  },
  {
   "cell_type": "code",
   "execution_count": null,
   "source": [
    "df2 = df.withColumn(\"HV Ratio\", col(\"High\")/col(\"Volume\"))"
   ],
   "outputs": [],
   "metadata": {}
  },
  {
   "cell_type": "markdown",
   "source": [
    "+--------------------+\n",
    "|            HV Ratio|\n",
    "+--------------------+\n",
    "|4.819714653321546E-6|\n",
    "|6.290848613094555E-6|\n",
    "|4.669412994783916E-6|\n",
    "|7.367338463826307E-6|\n",
    "|8.915604778943901E-6|\n",
    "|8.644477436914568E-6|\n",
    "|9.351828421515645E-6|\n",
    "| 8.29141562102703E-6|\n",
    "|7.712212102001476E-6|\n",
    "|7.071764823529412E-6|\n",
    "|1.015495466386981E-5|\n",
    "|6.576354146362592...|\n",
    "| 5.90145296180676E-6|\n",
    "|8.547679455011844E-6|\n",
    "|8.420709512685392E-6|\n",
    "|1.041448341728929...|\n",
    "|8.316075414862431E-6|\n",
    "|9.721183814992126E-6|\n",
    "|8.029436027707578E-6|\n",
    "|6.307432259386365E-6|\n",
    "+--------------------+\n",
    "only showing top 20 rows"
   ],
   "metadata": {}
  },
  {
   "cell_type": "markdown",
   "source": [
    "### What day had the Peak High in Price?"
   ],
   "metadata": {}
  },
  {
   "cell_type": "code",
   "execution_count": null,
   "source": [
    "df.select(max(\"High\")).show()"
   ],
   "outputs": [],
   "metadata": {}
  },
  {
   "cell_type": "markdown",
   "source": [
    "datetime.datetime(2015, 1, 13, 0, 0)"
   ],
   "metadata": {}
  },
  {
   "cell_type": "markdown",
   "source": [
    "### What is the mean of the Close column?"
   ],
   "metadata": {}
  },
  {
   "cell_type": "code",
   "execution_count": null,
   "source": [
    "df.select(mean(\"Close\")).show(truncate=False)"
   ],
   "outputs": [],
   "metadata": {}
  },
  {
   "cell_type": "markdown",
   "source": [
    "+-----------------+\n",
    "|       avg(Close)|\n",
    "+-----------------+\n",
    "|72.38844998012726|\n",
    "+-----------------+"
   ],
   "metadata": {}
  },
  {
   "cell_type": "markdown",
   "source": [
    "### What is the max and min of the Volume column?"
   ],
   "metadata": {}
  },
  {
   "cell_type": "code",
   "execution_count": null,
   "source": [
    "df.select(max(\"Volume\")).show(truncate=False)\n",
    "\n",
    "df.select(min(\"Volume\")).show(truncate=False)\n"
   ],
   "outputs": [],
   "metadata": {}
  },
  {
   "cell_type": "markdown",
   "source": [
    "+-----------+-----------+\n",
    "|max(Volume)|min(Volume)|\n",
    "+-----------+-----------+\n",
    "|   80898100|    2094900|\n",
    "+-----------+-----------+"
   ],
   "metadata": {}
  },
  {
   "cell_type": "markdown",
   "source": [
    "### How many days was the Close lower than 60 dollars?"
   ],
   "metadata": {}
  },
  {
   "cell_type": "code",
   "execution_count": null,
   "source": [
    "x = df.filter(df.Close < 60).show()\n",
    "x.select(count(\"Close\")).collect()[0]\n",
    "# 81"
   ],
   "outputs": [],
   "metadata": {}
  },
  {
   "cell_type": "markdown",
   "source": [
    "### What percentage of the time was the High greater than 80 dollars ?\n",
    "### In other words, (Number of Days High>80)/(Total Days in the dataset)"
   ],
   "metadata": {}
  },
  {
   "cell_type": "code",
   "execution_count": null,
   "source": [
    "# 9.141494435612083\n",
    "\n"
   ],
   "outputs": [],
   "metadata": {}
  },
  {
   "cell_type": "markdown",
   "source": [
    "### What is the Pearson correlation between High and Volume?"
   ],
   "metadata": {}
  },
  {
   "cell_type": "code",
   "execution_count": null,
   "source": [
    "+-------------------+\n",
    "| corr(High, Volume)|\n",
    "+-------------------+\n",
    "|-0.3384326061737161|\n",
    "+-------------------+\n"
   ],
   "outputs": [],
   "metadata": {}
  },
  {
   "cell_type": "markdown",
   "source": [
    "### What is the max High per year?"
   ],
   "metadata": {}
  },
  {
   "cell_type": "code",
   "execution_count": null,
   "source": [],
   "outputs": [],
   "metadata": {}
  },
  {
   "cell_type": "markdown",
   "source": [
    "+----+---------+\n",
    "|Year|max(High)|\n",
    "+----+---------+\n",
    "|2015|90.970001|\n",
    "|2013|81.370003|\n",
    "|2014|88.089996|\n",
    "|2012|77.599998|\n",
    "|2016|75.190002|\n",
    "+----+---------+"
   ],
   "metadata": {}
  },
  {
   "cell_type": "markdown",
   "source": [
    "### What is the average Close for each Calendar Month?\n",
    "### In other words, across all the years, what is the average Close price for Jan,Feb, Mar, etc... Your result will have a value for each of these months."
   ],
   "metadata": {}
  },
  {
   "cell_type": "code",
   "execution_count": null,
   "source": [],
   "outputs": [],
   "metadata": {}
  },
  {
   "cell_type": "markdown",
   "source": [
    "+-----+-----------------+\n",
    "|Month|       avg(Close)|\n",
    "+-----+-----------------+\n",
    "|    1|71.44801958415842|\n",
    "|    2|  71.306804443299|\n",
    "|    3|71.77794377570092|\n",
    "|    4|72.97361900952382|\n",
    "|    5|72.30971688679247|\n",
    "|    6| 72.4953774245283|\n",
    "|    7|74.43971943925233|\n",
    "|    8|73.02981855454546|\n",
    "|    9|72.18411785294116|\n",
    "|   10|71.57854545454543|\n",
    "|   11| 72.1110893069307|\n",
    "|   12|72.84792478301885|\n",
    "+-----+-----------------+"
   ],
   "metadata": {}
  },
  {
   "cell_type": "markdown",
   "source": [
    "# Great Job!"
   ],
   "metadata": {}
  }
 ],
 "metadata": {
  "orig_nbformat": 4,
  "language_info": {
   "name": "python",
   "version": "3.9.6"
  },
  "kernelspec": {
   "name": "python3",
   "display_name": "Python 3.9.6 64-bit ('cloud_computing': conda)"
  },
  "interpreter": {
   "hash": "0587bdb010d28d0d4a139be609180b8b6693bc6e8af7abd8aa04e46d962c4a78"
  }
 },
 "nbformat": 4,
 "nbformat_minor": 2
}